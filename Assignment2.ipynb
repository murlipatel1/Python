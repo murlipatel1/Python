{
 "cells": [
  {
   "cell_type": "markdown",
   "metadata": {},
   "source": [
    "## MURLI PATEL\n",
    "### 21BCP107\n",
    "### ASSIGNMENT 2"
   ]
  },
  {
   "cell_type": "code",
   "execution_count": 17,
   "metadata": {},
   "outputs": [],
   "source": [
    "# WAP to take two floats as input and print all the permutations of the applicable operators on them.\n",
    "\n",
    "a = float(input(\"Enter the first value\"))\n",
    "b = float(input(\"Enter the second value\"))\n"
   ]
  },
  {
   "cell_type": "code",
   "execution_count": 18,
   "metadata": {},
   "outputs": [
    {
     "name": "stdout",
     "output_type": "stream",
     "text": [
      "27.0\n",
      "3.0\n",
      "180.0\n",
      "1.25\n",
      "3.0\n",
      "129746337890625.0\n",
      "1.0\n"
     ]
    }
   ],
   "source": [
    "# Arithmetic operators\n",
    "\n",
    "print(a+b)\n",
    "\n",
    "print(a-b)\n",
    "\n",
    "print(a*b)\n",
    "\n",
    "print(a/b)\n",
    "\n",
    "print(a%b)\n",
    "\n",
    "print(a**b)\n",
    "\n",
    "print(a//b)\n",
    "\n"
   ]
  },
  {
   "cell_type": "code",
   "execution_count": 19,
   "metadata": {},
   "outputs": [
    {
     "name": "stdout",
     "output_type": "stream",
     "text": [
      "False\n",
      "True\n",
      "True\n",
      "False\n",
      "True\n",
      "False\n"
     ]
    }
   ],
   "source": [
    "# Comparison Operator\n",
    "\n",
    "print(a==b)\n",
    "\n",
    "print(a!=b)\n",
    "\n",
    "print(a>b)\n",
    "\n",
    "print(a<b)\n",
    "\n",
    "print(a>=b)\n",
    "\n",
    "print(a<=b)"
   ]
  },
  {
   "cell_type": "code",
   "execution_count": 20,
   "metadata": {},
   "outputs": [
    {
     "name": "stdout",
     "output_type": "stream",
     "text": [
      "12.0\n",
      "15.0\n",
      "False\n"
     ]
    }
   ],
   "source": [
    "#Logical Operators\n",
    "\n",
    "print(a and b)\n",
    "\n",
    "print(a or b)\n",
    "\n",
    "print(not a)"
   ]
  },
  {
   "cell_type": "code",
   "execution_count": 21,
   "metadata": {},
   "outputs": [
    {
     "name": "stdout",
     "output_type": "stream",
     "text": [
      "12\n",
      "15\n",
      "3\n",
      "-16\n",
      "60\n",
      "0\n"
     ]
    }
   ],
   "source": [
    "# Bitwise Operators\n",
    "\n",
    "a=int(a)\n",
    "b=int(b)\n",
    "print(a & b)\n",
    "print(a | b)\n",
    "print(a ^ b)\n",
    "print(~a)\n",
    "print(a<<2)\n",
    "print(a>>b)"
   ]
  },
  {
   "cell_type": "code",
   "execution_count": 22,
   "metadata": {},
   "outputs": [
    {
     "name": "stdout",
     "output_type": "stream",
     "text": [
      "5.0\n",
      "0.0\n"
     ]
    }
   ],
   "source": [
    "# WAP to take 5 integer values as input and print the quotient and remainder when the maximum of them is divided by the minimum of them.\n",
    "\n",
    "n1 = float(input(\"Enter the first value\"))\n",
    "n2 = float(input(\"Enter the first value\"))\n",
    "n3 = float(input(\"Enter the first value\"))\n",
    "n4 = float(input(\"Enter the first value\"))\n",
    "n5 = float(input(\"Enter the first value\"))\n",
    "\n",
    "max_value = max(n1,n2,n3,n4,n5)\n",
    "min_value = min(n1,n2,n3,n4,n5)\n",
    "\n",
    "print(max_value/min_value)\n",
    "print(max_value%min_value)\n"
   ]
  }
 ],
 "metadata": {
  "interpreter": {
   "hash": "bfb4883d108fc92ac768439090a2e92bb9a1f760a54beeecfd6762b5dcd70fe3"
  },
  "kernelspec": {
   "display_name": "Python 3.10.1 64-bit",
   "language": "python",
   "name": "python3"
  },
  "language_info": {
   "codemirror_mode": {
    "name": "ipython",
    "version": 3
   },
   "file_extension": ".py",
   "mimetype": "text/x-python",
   "name": "python",
   "nbconvert_exporter": "python",
   "pygments_lexer": "ipython3",
   "version": "3.10.1"
  },
  "orig_nbformat": 4
 },
 "nbformat": 4,
 "nbformat_minor": 2
}
