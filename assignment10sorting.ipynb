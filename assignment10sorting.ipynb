{
 "cells": [
  {
   "cell_type": "markdown",
   "metadata": {},
   "source": [
    "# MURLI PATEL\n",
    "## 21BCP107"
   ]
  },
  {
   "cell_type": "code",
   "execution_count": 3,
   "metadata": {},
   "outputs": [
    {
     "name": "stdout",
     "output_type": "stream",
     "text": [
      "Sorted array is:\n",
      "-1\n",
      "1\n",
      "2\n",
      "10\n",
      "22\n",
      "23\n"
     ]
    }
   ],
   "source": [
    "#BUBBLE SORT\n",
    "def bubbleSort(arr):\n",
    "\n",
    "    n = len(arr)\n",
    "\n",
    "    \n",
    "    for i in range(n):\n",
    "        for j in range(0, n - i - 1):\n",
    "            if arr[j] > arr[j + 1]:\n",
    "                arr[j], arr[j + 1] = arr[j + 1], arr[j]\n",
    "\n",
    "arr = [ 2, 1, 10, 23, 22, -1]\n",
    "\n",
    "bubbleSort(arr)\n",
    "\n",
    "print(\"Sorted array is:\")\n",
    "for i in range(len(arr)):\n",
    "    print(\"%d\" % arr[i])"
   ]
  },
  {
   "cell_type": "code",
   "execution_count": 4,
   "metadata": {},
   "outputs": [
    {
     "name": "stdout",
     "output_type": "stream",
     "text": [
      "Sorted Array in Ascending Order is :\n",
      "[-11, 0, 1, 2, 6, 7]\n"
     ]
    }
   ],
   "source": [
    "#SELECTION SORT\n",
    "def selectionSort(array, size):\n",
    "    for s in range(size):\n",
    "        min_idx = s\n",
    "        for i in range(s + 1, size):\n",
    "            if array[i] < array[min_idx]:\n",
    "                min_idx = i\n",
    "        (array[s], array[min_idx]) = (array[min_idx], array[s])\n",
    "\n",
    "data = [ 7, 2, 1, 6,0,-11 ]\n",
    "size = len(data)\n",
    "selectionSort(data, size)\n",
    "\n",
    "print('Sorted Array in Ascending Order is :')\n",
    "print(data)"
   ]
  }
 ],
 "metadata": {
  "interpreter": {
   "hash": "a42ccb73e7d9bfdf27e036f1d2b8b681e55fc0743cc5586bc2474d4a60f4b886"
  },
  "kernelspec": {
   "display_name": "Python 3.10.1 64-bit",
   "language": "python",
   "name": "python3"
  },
  "language_info": {
   "codemirror_mode": {
    "name": "ipython",
    "version": 3
   },
   "file_extension": ".py",
   "mimetype": "text/x-python",
   "name": "python",
   "nbconvert_exporter": "python",
   "pygments_lexer": "ipython3",
   "version": "3.10.1"
  },
  "orig_nbformat": 4
 },
 "nbformat": 4,
 "nbformat_minor": 2
}
