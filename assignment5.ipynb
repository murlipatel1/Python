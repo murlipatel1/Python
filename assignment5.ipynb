{
 "cells": [
  {
   "cell_type": "markdown",
   "metadata": {},
   "source": [
    "# MURLI PATEL\n",
    "## 21BCP107"
   ]
  },
  {
   "cell_type": "code",
   "execution_count": 1,
   "metadata": {},
   "outputs": [
    {
     "name": "stdout",
     "output_type": "stream",
     "text": [
      "Exception Caught ZERO DIVISION ERROR\n"
     ]
    }
   ],
   "source": [
    "# To handle zero divison error\n",
    "try :\n",
    "    num1 = int (input(\" enter any number \"))\n",
    "    num2 = int (input(\"enter any number \"))\n",
    "    res = num1/num2\n",
    "    print(res)\n",
    "except :\n",
    "    print(\"Exception Caught ZERO DIVISION ERROR\")\n"
   ]
  },
  {
   "cell_type": "code",
   "execution_count": 2,
   "metadata": {},
   "outputs": [
    {
     "name": "stdout",
     "output_type": "stream",
     "text": [
      "The file tet.txt does not exist.\n"
     ]
    }
   ],
   "source": [
    "# To handle error while working with file\n",
    "filename = input(\"Enter the file name\")\n",
    "\n",
    "try:\n",
    "    f_obj = open(filename) \n",
    "    content = f_obj.read()\n",
    "\n",
    "except FileNotFoundError:\n",
    "    msg = \"The file \" + filename + \" does not exist.\"\n",
    "    print(msg)\n",
    "    \n",
    "else: \n",
    "    print(content)\n",
    "    f_obj.close()"
   ]
  },
  {
   "cell_type": "code",
   "execution_count": 3,
   "metadata": {},
   "outputs": [
    {
     "name": "stdout",
     "output_type": "stream",
     "text": [
      "Entered incorrect value\n"
     ]
    }
   ],
   "source": [
    "#To handle value error\n",
    "from math import sqrt\n",
    "num = int(input(\"Enter a integer: \"))\n",
    "try:\n",
    "    print(sqrt(num))\n",
    "except :\n",
    "    print(\"Entered incorrect value\")"
   ]
  }
 ],
 "metadata": {
  "interpreter": {
   "hash": "bfb4883d108fc92ac768439090a2e92bb9a1f760a54beeecfd6762b5dcd70fe3"
  },
  "kernelspec": {
   "display_name": "Python 3.10.1 64-bit",
   "language": "python",
   "name": "python3"
  },
  "language_info": {
   "codemirror_mode": {
    "name": "ipython",
    "version": 3
   },
   "file_extension": ".py",
   "mimetype": "text/x-python",
   "name": "python",
   "nbconvert_exporter": "python",
   "pygments_lexer": "ipython3",
   "version": "3.10.1"
  },
  "orig_nbformat": 4
 },
 "nbformat": 4,
 "nbformat_minor": 2
}
