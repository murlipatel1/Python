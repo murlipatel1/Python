{
 "cells": [
  {
   "cell_type": "markdown",
   "metadata": {},
   "source": [
    "# MURLI PATEL\n",
    "## 21BCP107"
   ]
  },
  {
   "cell_type": "code",
   "execution_count": 11,
   "metadata": {},
   "outputs": [
    {
     "name": "stdout",
     "output_type": "stream",
     "text": [
      "['apple', 'watermelon']\n",
      "['apple', 'watermelon', 'water']\n",
      "['apple', 'watermelon', 'water', 'orange']\n",
      "['apple', 'watermelon', 'water', 'orange', 'mango', 'pineapple', 'papaya']\n",
      "['apple', 'banana', 'cherry', 'kiwi', 'orange']\n",
      "['banana', 'cherry']\n",
      "['apple', 'banana']\n",
      "['apple', 'cherry']\n",
      "[]\n"
     ]
    }
   ],
   "source": [
    "mylist = [\"apple\", \"banana\", \"cherry\"]  \n",
    "mylist[1:3] =   [\"watermelon\"]  \n",
    "print(mylist)\n",
    "\n",
    "mylist.insert(2, \"water\")  \n",
    "print(mylist)\n",
    "\n",
    "mylist.append(\"orange\")\n",
    "print(mylist)\n",
    "\n",
    "\n",
    "morefruits = [\"mango\", \"pineapple\", \"papaya\"] \n",
    "mylist.extend(morefruits)\n",
    "print(mylist)\n",
    "\n",
    "\n",
    "mylist = [\"apple\", \"banana\", \"cherry\"]\n",
    "mytuple =   (\"kiwi\", \"orange\")  \n",
    "mylist.extend(mytuple)\n",
    "print(mylist)\n",
    "\n",
    "\n",
    "mylist = [\"apple\", \"banana\", \"cherry\"]\n",
    "mylist.remove(\"apple\")  \n",
    "print(mylist)\n",
    "\n",
    "mylist = [\"apple\", \"banana\", \"cherry\"]\n",
    "mylist.pop(2)\n",
    "print(mylist)\n",
    "\n",
    "mylist = [\"apple\", \"banana\", \"cherry\"]  \n",
    "del mylist[1]\n",
    "print(mylist)\n",
    "\n",
    "\n",
    "mylist = [\"apple\", \"banana\", \"cherry\"]\n",
    "mylist.clear()\n",
    "print(mylist)\n",
    "\n"
   ]
  },
  {
   "cell_type": "code",
   "execution_count": 10,
   "metadata": {},
   "outputs": [
    {
     "name": "stdout",
     "output_type": "stream",
     "text": [
      "apple\n",
      "banana\n",
      "cherry\n",
      "apple\n",
      "banana\n",
      "cherry\n",
      "apple\n",
      "banana\n",
      "cherry\n",
      "['apple']\n",
      "['apple', 'banana']\n",
      "['apple', 'banana', 'mango']\n"
     ]
    }
   ],
   "source": [
    "mylist = [\"apple\", \"banana\", \"cherry\"]  \n",
    "for x in mylist:\n",
    "    print(x)\n",
    "\n",
    "for i in range(3):\n",
    "    print(mylist[i])\n",
    "\n",
    "mylist = [\"apple\", \"banana\", \"cherry\"]  \n",
    "i = 0\n",
    "while i < len(mylist):  \n",
    "    print(mylist[i])\n",
    "    i =   i + 1\n",
    "\n",
    "fruits = [\"apple\", \"banana\", \"cherry\", \"kiwi\", \"mango\"]  \n",
    "newlist = []\n",
    "for x in fruits:\n",
    "    if \"a\" in x:\n",
    "        newlist.append(x)  \n",
    "        print(newlist)\n"
   ]
  },
  {
   "cell_type": "code",
   "execution_count": 9,
   "metadata": {},
   "outputs": [
    {
     "name": "stdout",
     "output_type": "stream",
     "text": [
      "('apple', 'banana', 'cherry')\n",
      "banana\n",
      "('apple', 'kiwi', 'cherry')\n",
      "apple\n",
      "banana\n",
      "cherry\n",
      "apple\n",
      "banana\n",
      "cherry\n",
      "('a', 'b', 'c', 1, 2, 3)\n",
      "('a', 'b', 'c', 'a', 'b', 'c')\n"
     ]
    }
   ],
   "source": [
    "mytuple = (\"apple\", \"banana\", \"cherry\")  \n",
    "print(mytuple)\n",
    "print(mytuple[1])\n",
    "\n",
    "\n",
    "y = list(mytuple)\n",
    "y[1] = \"kiwi\"\n",
    "x = tuple(y)\n",
    "print(x)\n",
    "\n",
    "\n",
    "mytuple = (\"apple\", \"banana\", \"cherry\")  \n",
    "for x in mytuple:\n",
    "    print(x)\n",
    "  \n",
    "for i in range(len(mytuple)):  \n",
    "    print(mytuple[i])\n",
    "\n",
    "\n",
    "tuple1 = (\"a\", \"b\" , \"c\")\n",
    "tuple2 = (1, 2, 3)\n",
    "tuple3 =   tuple1 + tuple2\n",
    "print(tuple3)\n",
    "\n",
    "mytuplenew =   tuple1 *2  \n",
    "print(mytuplenew)\n",
    "\n"
   ]
  },
  {
   "cell_type": "code",
   "execution_count": 8,
   "metadata": {},
   "outputs": [
    {
     "name": "stdout",
     "output_type": "stream",
     "text": [
      "apple\n",
      "banana\n",
      "cherry\n",
      "{'apple', 'banana', 'cherry', 'orange'}\n",
      "{'apple', 'banana', 'mango', 'cherry', 'orange', 'pineapple', 'papaya'}\n",
      "{'apple', 'mango', 'cherry', 'orange', 'pineapple', 'papaya'}\n",
      "{'apple', 'mango', 'cherry', 'orange', 'pineapple', 'papaya'}\n",
      "{'c', 1, 2, 3, 'a', 'b'}\n"
     ]
    }
   ],
   "source": [
    "myset = {\"apple\", \"banana\", \"cherry\"}\n",
    "for x in myset:  \n",
    "    print(x)\n",
    "\n",
    "myset.add(\"orange\")  \n",
    "print(myset)\n",
    "\n",
    "tropical = {\"pineapple\", \"mango\", \"papaya\"}\n",
    "myset.update(tropical)\n",
    "print(myset)\n",
    "\n",
    "myset.remove(\"banana\")  \n",
    "print(myset)\n",
    "\n",
    "\n",
    "myset.discard(\"banana\")  \n",
    "print(myset)\n",
    "\n",
    "\n",
    "set1 = {\"a\", \"b\" , \"c\"}  \n",
    "set2 = {1, 2, 3}\n",
    "set3 = set1.union(set2)\n",
    "print(set3)"
   ]
  },
  {
   "cell_type": "code",
   "execution_count": 6,
   "metadata": {},
   "outputs": [
    {
     "name": "stdout",
     "output_type": "stream",
     "text": [
      "{'brand': 'Ford', 'model': 'Mustang', 'year': 1964}\n",
      "Ford\n",
      "{'brand': 'Ford', 'model': 'Mustang', 'year': 1964}\n",
      "Ford\n",
      "dict_keys(['brand', 'model', 'year'])\n",
      "dict_keys(['brand', 'model', 'year', 'color'])\n"
     ]
    }
   ],
   "source": [
    "thisdict = {\n",
    "\"brand\": \"Ford\",\n",
    "\"model\": \"Mustang\",  \n",
    "\"year\": 1964\n",
    "}\n",
    "print(thisdict)\n",
    "print(thisdict[\"brand\"])\n",
    "\n",
    "\n",
    "thisdict = {\n",
    "\"brand\": \"Ford\",\n",
    "\"model\": \"Mustang\",  \n",
    "\"year\": 1964\n",
    "}\n",
    "print(thisdict)\n",
    "print(thisdict[\"brand\"])\n",
    "x = thisdict.get(\"model\")\n",
    "\n",
    "x = thisdict.keys()\n",
    "print(x) \n",
    "thisdict[\"color\"] =   \"white\"  \n",
    "print(x) "
   ]
  },
  {
   "cell_type": "code",
   "execution_count": 12,
   "metadata": {},
   "outputs": [
    {
     "name": "stdout",
     "output_type": "stream",
     "text": [
      "Dictionary is : {1: 'Ram', 2: 'Shyam', 3: 'Kishan', 4: 'Krish', 5: 'Dev', 6: 'Shiv', 7: 'Shivraj', 8: 'Hemant', 9: 'Ramthathor', 10: 'Maya'}\n"
     ]
    }
   ],
   "source": [
    "# Write a Python program to read the admission number and names of 10\n",
    "# students from the keyboard. Create a dictionary of these admission number\n",
    "# and names and then display them on the screen\n",
    "\n",
    "di={}\n",
    "for i in range(0,10):\n",
    "    adm_num=int(input(\"Enter admission number of student\"))\n",
    "    name=input(\"Enter name of Student\")\n",
    "    di[adm_num]=name\n",
    "\n",
    "print(\"Dictionary is :\",di)"
   ]
  }
 ],
 "metadata": {
  "interpreter": {
   "hash": "bfb4883d108fc92ac768439090a2e92bb9a1f760a54beeecfd6762b5dcd70fe3"
  },
  "kernelspec": {
   "display_name": "Python 3.10.1 64-bit",
   "language": "python",
   "name": "python3"
  },
  "language_info": {
   "codemirror_mode": {
    "name": "ipython",
    "version": 3
   },
   "file_extension": ".py",
   "mimetype": "text/x-python",
   "name": "python",
   "nbconvert_exporter": "python",
   "pygments_lexer": "ipython3",
   "version": "3.10.1"
  },
  "orig_nbformat": 4
 },
 "nbformat": 4,
 "nbformat_minor": 2
}
