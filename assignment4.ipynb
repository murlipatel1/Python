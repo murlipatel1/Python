{
 "cells": [
  {
   "cell_type": "markdown",
   "metadata": {},
   "source": [
    "# MURLI PATEL\n",
    "## 21BCP107"
   ]
  },
  {
   "cell_type": "code",
   "execution_count": 9,
   "metadata": {},
   "outputs": [],
   "source": [
    "a=int(input(\"Enter the value of a\"))\n",
    "b=int(input(\"Enter the value of b\"))\n"
   ]
  },
  {
   "cell_type": "code",
   "execution_count": 10,
   "metadata": {},
   "outputs": [
    {
     "name": "stdout",
     "output_type": "stream",
     "text": [
      "Adding 25 with 5 \n",
      " Ans: 30\n"
     ]
    }
   ],
   "source": [
    "def add(x,y):\n",
    "    sum=x+y\n",
    "    print('Adding {0} with {1} \\n Ans: {2}'.format(x,y,sum))\n",
    "\n",
    "add(a,b)"
   ]
  },
  {
   "cell_type": "code",
   "execution_count": 11,
   "metadata": {},
   "outputs": [
    {
     "name": "stdout",
     "output_type": "stream",
     "text": [
      "Subtracting 5 with 25 \n",
      " Ans: 20\n"
     ]
    }
   ],
   "source": [
    "def sub(x,y):\n",
    "    sub=x-y\n",
    "    print('Subtracting {1} with {0} \\n Ans: {2}'.format(x,y,sub))\n",
    "\n",
    "sub(a,b)"
   ]
  },
  {
   "cell_type": "code",
   "execution_count": 12,
   "metadata": {},
   "outputs": [
    {
     "name": "stdout",
     "output_type": "stream",
     "text": [
      "Multiplying 25 with 5 \n",
      " Ans: 125\n"
     ]
    }
   ],
   "source": [
    "def mul(x,y):\n",
    "    mul=x*y\n",
    "    print('Multiplying {0} with {1} \\n Ans: {2}'.format(x,y,mul))\n",
    "\n",
    "mul(a,b)"
   ]
  },
  {
   "cell_type": "code",
   "execution_count": 13,
   "metadata": {},
   "outputs": [
    {
     "name": "stdout",
     "output_type": "stream",
     "text": [
      "Dividing 25 with 5 \n",
      " Ans: 5.0\n"
     ]
    }
   ],
   "source": [
    "def div(x,y):\n",
    "    div=x/y\n",
    "    if(y!=0):\n",
    "        print('Dividing {0} with {1} \\n Ans: {2}'.format(x,y,div))\n",
    "    else:\n",
    "        print(\"Not defined\")\n",
    "\n",
    "div(a,b)"
   ]
  }
 ],
 "metadata": {
  "interpreter": {
   "hash": "bfb4883d108fc92ac768439090a2e92bb9a1f760a54beeecfd6762b5dcd70fe3"
  },
  "kernelspec": {
   "display_name": "Python 3.10.1 64-bit",
   "language": "python",
   "name": "python3"
  },
  "language_info": {
   "codemirror_mode": {
    "name": "ipython",
    "version": 3
   },
   "file_extension": ".py",
   "mimetype": "text/x-python",
   "name": "python",
   "nbconvert_exporter": "python",
   "pygments_lexer": "ipython3",
   "version": "3.10.1"
  },
  "orig_nbformat": 4
 },
 "nbformat": 4,
 "nbformat_minor": 2
}
