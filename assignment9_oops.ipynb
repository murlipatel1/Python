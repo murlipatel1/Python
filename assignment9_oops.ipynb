{
 "cells": [
  {
   "cell_type": "markdown",
   "metadata": {},
   "source": [
    "# MURLI PATEL\n",
    "## 21BCP107"
   ]
  },
  {
   "cell_type": "code",
   "execution_count": 22,
   "metadata": {},
   "outputs": [
    {
     "name": "stdout",
     "output_type": "stream",
     "text": [
      "Scooby Dobby 5\n"
     ]
    }
   ],
   "source": [
    "#INHERITANCE\n",
    "class Animal:\n",
    "    def __init__(self, name,age1):\n",
    "        self.givenname = name\n",
    "        self.age = age1\n",
    "    def printname(self):\n",
    "        print(self.givenname,self.age)\n",
    "class Dog(Animal):\n",
    "    pass\n",
    "\n",
    "x = Dog(\"Scooby Dobby\", \"5\")\n",
    "x.printname()"
   ]
  },
  {
   "cell_type": "code",
   "execution_count": 23,
   "metadata": {},
   "outputs": [
    {
     "name": "stdout",
     "output_type": "stream",
     "text": [
      "Scooby 5\n",
      "Sam is a Dog\n"
     ]
    }
   ],
   "source": [
    "#INHERITANCE SUPER FUNCTION\n",
    "class Animal:\n",
    "    def __init__(self, name,age1):\n",
    "        self.givenname = name\n",
    "        self.age = age1\n",
    "    def printname(self):\n",
    "        print(self.givenname,self.age)\n",
    "\n",
    "\n",
    "class Dog(Animal):\n",
    "    def __init__(self, name, age):\n",
    "        super().__init__(name, age)\n",
    "        self.owner = 'Sam is a Dog'\n",
    "\n",
    "x = Dog(\"Scooby\", \"5\")\n",
    "x.printname()\n",
    "print(x.owner)"
   ]
  },
  {
   "cell_type": "code",
   "execution_count": 24,
   "metadata": {},
   "outputs": [
    {
     "name": "stdout",
     "output_type": "stream",
     "text": [
      "2\n",
      "5\n"
     ]
    }
   ],
   "source": [
    "#ENCAPSULATION\n",
    "class Rectangle:\n",
    "    length = 2 #privatevariable\n",
    "    breadth = 5 #private variable\n",
    "    def init (self): #constructor\n",
    "        self.__length = 5\n",
    "        self.__breadth = 3\n",
    "        #printing valuesoftheprivatevariablewithintheclass\n",
    "        print(self.__length)\n",
    "        print(self.__breadth)\n",
    "rec = Rectangle() #object created for the class 'Rectangle'\n",
    "#printing values of the private variable outside the class\n",
    "# using the object created for the class 'Rectangle'\n",
    "print(rec.length)\n",
    "print(rec.breadth)"
   ]
  },
  {
   "cell_type": "code",
   "execution_count": 20,
   "metadata": {},
   "outputs": [
    {
     "name": "stdout",
     "output_type": "stream",
     "text": [
      "He say bow wow.\n",
      "He say mew mew\n"
     ]
    }
   ],
   "source": [
    "class Dog():\n",
    "    def makeNoise(self):\n",
    "        print(\"He say bow wow.\")\n",
    "\n",
    "class Cat():\n",
    "    def makeNoise(self):\n",
    "        print(\"He say mew mew\")\n",
    "\n",
    "obj_d = Dog()\n",
    "obj_c = Cat()\n",
    "obj_d.makeNoise()\n",
    "obj_c.makeNoise()"
   ]
  },
  {
   "cell_type": "code",
   "execution_count": 21,
   "metadata": {},
   "outputs": [
    {
     "name": "stdout",
     "output_type": "stream",
     "text": [
      "Bird is ready\n",
      "Penguin is ready\n",
      "Penguin\n",
      "Swim faster\n",
      "Run faster\n"
     ]
    }
   ],
   "source": [
    "# INHERITANCE\n",
    "\n",
    "# parent class\n",
    "class Bird:\n",
    "    \n",
    "    def __init__(self):\n",
    "        print(\"Bird is ready\")\n",
    "\n",
    "    def whoisThis(self):\n",
    "        print(\"Bird\")\n",
    "\n",
    "    def swim(self):\n",
    "        print(\"Swim faster\")\n",
    "\n",
    "# child class\n",
    "class Penguin(Bird):\n",
    "\n",
    "    def __init__(self):\n",
    "        # call super() function\n",
    "        super().__init__()\n",
    "        print(\"Penguin is ready\")\n",
    "\n",
    "    def whoisThis(self):\n",
    "        print(\"Penguin\")\n",
    "\n",
    "    def run(self):\n",
    "        print(\"Run faster\")\n",
    "\n",
    "peggy = Penguin()\n",
    "peggy.whoisThis()\n",
    "peggy.swim()\n",
    "peggy.run()"
   ]
  },
  {
   "cell_type": "code",
   "execution_count": 29,
   "metadata": {},
   "outputs": [
    {
     "name": "stdout",
     "output_type": "stream",
     "text": [
      "Selling Price: 800\n",
      "Selling Price: 800\n",
      "Selling Price: 1000\n"
     ]
    }
   ],
   "source": [
    "# ENCAPSULATION\n",
    "\n",
    "class Computer:\n",
    "\n",
    "    def __init__(self):\n",
    "        self.__maxprice = 800\n",
    "\n",
    "    def sell(self):\n",
    "        print(\"Selling Price: {0}\".format(self.__maxprice))\n",
    "\n",
    "    def setMaxPrice(self, price):\n",
    "        self.__maxprice = price\n",
    "\n",
    "c = Computer()\n",
    "c.sell()\n",
    "\n",
    "# change the price\n",
    "c.__maxprice = 1000\n",
    "c.sell()\n",
    "\n",
    "# using setter function\n",
    "c.setMaxPrice(1000)\n",
    "c.sell()"
   ]
  },
  {
   "cell_type": "code",
   "execution_count": 1,
   "metadata": {},
   "outputs": [
    {
     "name": "stdout",
     "output_type": "stream",
     "text": [
      "Parrot can fly\n",
      "Penguin can't fly\n"
     ]
    }
   ],
   "source": [
    "# POLYMORPHISM\n",
    "class Parrot:\n",
    "\n",
    "    def fly(self):\n",
    "        print(\"Parrot can fly\")\n",
    "    \n",
    "    def swim(self):\n",
    "        print(\"Parrot can't swim\")\n",
    "\n",
    "class Penguin:\n",
    "\n",
    "    def fly(self):\n",
    "        print(\"Penguin can't fly\")\n",
    "    \n",
    "    def swim(self):\n",
    "        print(\"Penguin can swim\")\n",
    "\n",
    "# common interface\n",
    "def flying_test(bird):\n",
    "    bird.fly()\n",
    "\n",
    "#instantiate objects\n",
    "blu = Parrot()\n",
    "peggy = Penguin()\n",
    "\n",
    "# passing the object\n",
    "flying_test(blu)\n",
    "flying_test(peggy)"
   ]
  }
 ],
 "metadata": {
  "interpreter": {
   "hash": "a42ccb73e7d9bfdf27e036f1d2b8b681e55fc0743cc5586bc2474d4a60f4b886"
  },
  "kernelspec": {
   "display_name": "Python 3.10.1 64-bit",
   "language": "python",
   "name": "python3"
  },
  "language_info": {
   "codemirror_mode": {
    "name": "ipython",
    "version": 3
   },
   "file_extension": ".py",
   "mimetype": "text/x-python",
   "name": "python",
   "nbconvert_exporter": "python",
   "pygments_lexer": "ipython3",
   "version": "3.10.1"
  },
  "orig_nbformat": 4
 },
 "nbformat": 4,
 "nbformat_minor": 2
}
