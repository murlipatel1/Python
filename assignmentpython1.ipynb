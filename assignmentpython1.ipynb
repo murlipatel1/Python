{
 "cells": [
  {
   "cell_type": "markdown",
   "metadata": {},
   "source": [
    "<h1> Assignment 1 </h1>\n",
    "<h2> MURLI PATEL </h2>"
   ]
  },
  {
   "cell_type": "markdown",
   "metadata": {},
   "source": [
    "<h5> WAP to take 2 float values to add, subtract, multiply and divide them and print their fractional representation. </h5>"
   ]
  },
  {
   "cell_type": "code",
   "execution_count": 8,
   "metadata": {},
   "outputs": [
    {
     "name": "stdout",
     "output_type": "stream",
     "text": [
      "18.0\n",
      "6.0\n",
      "72.0\n",
      "2.0\n"
     ]
    }
   ],
   "source": [
    "#WAP to take 2 float values to add, subtract, multiply and divide \n",
    "# them and print their fractional representation.\n",
    "\n",
    "n1 = float(input(\"Enter the first value\"))\n",
    "n2 = float(input(\"Enter the second value\"))\n",
    "\n",
    "add = n1 + n2\n",
    "sub = n1 - n2\n",
    "mul = n1*n2\n",
    "\n",
    "print(add)\n",
    "print(sub)\n",
    "print(mul)\n",
    "if (n2==0):\n",
    "    print(\"Division not possible\")\n",
    "else:\n",
    "    div = n1/n2\n",
    "    \n",
    "    print(div)\n"
   ]
  },
  {
   "cell_type": "markdown",
   "metadata": {},
   "source": [
    "<h5> WAP to take 5 float values as input and print the min and max of them all. </h5>"
   ]
  },
  {
   "cell_type": "code",
   "execution_count": 9,
   "metadata": {},
   "outputs": [
    {
     "name": "stdout",
     "output_type": "stream",
     "text": [
      "66.0\n",
      "0.0\n"
     ]
    }
   ],
   "source": [
    "# WAP to take 5 float values as input and print the min and max of them all.\n",
    "\n",
    "m1 = float(input(\"Enter the first value\"))\n",
    "m2 = float(input(\"Enter the second value\"))\n",
    "m3 = float(input(\"Enter the third value\"))\n",
    "m4 = float(input(\"Enter the fourth value\"))\n",
    "m5 = float(input(\"Enter the fifth value\"))\n",
    "\n",
    "\n",
    "max_value = max(m1,m2,m3,m4,m5)\n",
    "\n",
    "print(max_value)\n",
    "\n",
    "min_value = min(m1,m2,m3,m4,m5)\n",
    "\n",
    "print(min_value)"
   ]
  },
  {
   "cell_type": "markdown",
   "metadata": {},
   "source": [
    "<h5> WAP to print your name in uppercase, lowercase and titlecase. </h5>"
   ]
  },
  {
   "cell_type": "code",
   "execution_count": 10,
   "metadata": {},
   "outputs": [
    {
     "name": "stdout",
     "output_type": "stream",
     "text": [
      "MURLI PATEL\n",
      "murli patel\n",
      "Murli Patel\n"
     ]
    }
   ],
   "source": [
    "# WAP to print your name in uppercase, lowercase and titlecase.\n",
    "\n",
    "name = input(\"Enter your name\")\n",
    "\n",
    "print(name.upper())\n",
    "print(name.lower())\n",
    "print(name.title())"
   ]
  }
 ],
 "metadata": {
  "interpreter": {
   "hash": "810dfa2006cbf44e3622ca67481e7516d1057671af7056d9ee9f13fb838d4ea8"
  },
  "kernelspec": {
   "display_name": "Python 3.10.2 64-bit",
   "language": "python",
   "name": "python3"
  },
  "language_info": {
   "codemirror_mode": {
    "name": "ipython",
    "version": 3
   },
   "file_extension": ".py",
   "mimetype": "text/x-python",
   "name": "python",
   "nbconvert_exporter": "python",
   "pygments_lexer": "ipython3",
   "version": "3.10.2"
  },
  "orig_nbformat": 4
 },
 "nbformat": 4,
 "nbformat_minor": 2
}
