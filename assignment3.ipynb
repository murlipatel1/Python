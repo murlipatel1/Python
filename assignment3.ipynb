{
 "cells": [
  {
   "cell_type": "markdown",
   "metadata": {},
   "source": [
    "# MURLI PATEL\n",
    "## 21BCP107"
   ]
  },
  {
   "cell_type": "code",
   "execution_count": 9,
   "metadata": {},
   "outputs": [
    {
     "name": "stdout",
     "output_type": "stream",
     "text": [
      "Multiplication Table of  18\n",
      "18 x 1 = 18\n",
      "18 x 2 = 36\n",
      "18 x 3 = 54\n",
      "18 x 4 = 72\n",
      "18 x 5 = 90\n",
      "18 x 6 = 108\n",
      "18 x 7 = 126\n",
      "18 x 8 = 144\n",
      "18 x 9 = 162\n",
      "18 x 10 = 180\n"
     ]
    }
   ],
   "source": [
    "# Input an integer, and print the multiplication table for the number.\n",
    "\n",
    "num = int(input(\"Enter the number:\"))\n",
    "print(\"Multiplication Table of \", num)\n",
    "for i in range(1, 11):\n",
    "    print(num, 'x', i, '=', num*i)"
   ]
  },
  {
   "cell_type": "code",
   "execution_count": 6,
   "metadata": {},
   "outputs": [
    {
     "name": "stdout",
     "output_type": "stream",
     "text": [
      "6\n"
     ]
    }
   ],
   "source": [
    "# Input 10 characters using while loop and count how many vowels are there.\n",
    "i=0\n",
    "vowels = 0\n",
    "str=input(\"Enter 10 characters\")\n",
    "while(i<10):\n",
    "    if(str[i] == 'a' or str[i] == 'e' or str[i] == 'i' or str[i] == 'o' or str[i] == 'u' or str[i] == 'A' or str[i] == 'E' or str[i] == 'I' or str[i] == 'O' or str[i] == 'U'):\n",
    "        vowels += 1\n",
    "    i=i+1\n",
    "\n",
    "print(vowels)"
   ]
  },
  {
   "cell_type": "code",
   "execution_count": 10,
   "metadata": {},
   "outputs": [
    {
     "name": "stdout",
     "output_type": "stream",
     "text": [
      "3317\n"
     ]
    }
   ],
   "source": [
    "# Find sum of numbers from 1 to 100 which are divisible by either 2 or 3.\n",
    "sum=0\n",
    "for x in range(1, 100):\n",
    "    if(x % 2 == 0 or x % 3 == 0):\n",
    "        sum=sum+x\n",
    "\n",
    "print(sum)"
   ]
  },
  {
   "cell_type": "code",
   "execution_count": 11,
   "metadata": {},
   "outputs": [
    {
     "name": "stdout",
     "output_type": "stream",
     "text": [
      "144.0\n"
     ]
    }
   ],
   "source": [
    "# Input a float number which will be the side of a square, prompt user to\n",
    "# enter a positive value if user inputs a negative value. Finally calculate the\n",
    "# area of the square.\n",
    "\n",
    "n1 = float(input(\"enter the number\"))\n",
    "for i in range(1):\n",
    "    if(n1 < 0):\n",
    "        continue\n",
    "    else:\n",
    "        print(n1*n1)"
   ]
  }
 ],
 "metadata": {
  "interpreter": {
   "hash": "810dfa2006cbf44e3622ca67481e7516d1057671af7056d9ee9f13fb838d4ea8"
  },
  "kernelspec": {
   "display_name": "Python 3.10.2 64-bit",
   "language": "python",
   "name": "python3"
  },
  "language_info": {
   "codemirror_mode": {
    "name": "ipython",
    "version": 3
   },
   "file_extension": ".py",
   "mimetype": "text/x-python",
   "name": "python",
   "nbconvert_exporter": "python",
   "pygments_lexer": "ipython3",
   "version": "3.10.2"
  },
  "orig_nbformat": 4
 },
 "nbformat": 4,
 "nbformat_minor": 2
}
