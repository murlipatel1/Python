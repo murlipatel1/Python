{
  "nbformat": 4,
  "nbformat_minor": 0,
  "metadata": {
    "colab": {
      "name": "Assignment8_OOPS_21BCP107.ipynb",
      "provenance": [],
      "collapsed_sections": []
    },
    "kernelspec": {
      "name": "python3",
      "display_name": "Python 3"
    },
    "language_info": {
      "name": "python"
    }
  },
  "cells": [
    {
      "cell_type": "code",
      "source": [
        "class Dog:\n",
        "  def __init__( self,n,sc,el,spot ):\n",
        "    self.name = n\n",
        "    self.skinColor = sc\n",
        "    self.earLength = el\n",
        "    self.isSpotted = spot\n",
        "    print(\"Dog has been created!!\")\n",
        "  def walk( self ):\n",
        "    print(\"{0} is walking!\".format(self.name))\n",
        "  def eat( self ):\n",
        "    print(\"{0} is eating!\".format(self.name))\n",
        "  def color(self):\n",
        "    print(\"{0} is color of this dog!\".format(self.skinColor))\n",
        "\n",
        "doggie1 = Dog( 'Scooby Doo', 'Brown', 'short',True )\n",
        "doggie1.walk()\n",
        "doggie1.color()\n",
        "doggie2 = Dog('Tommy', 'White', 'long', False)\n",
        "doggie2.walk()\n",
        "doggie2.color()"
      ],
      "metadata": {
        "colab": {
          "base_uri": "https://localhost:8080/"
        },
        "id": "nW167lS-6aW3",
        "outputId": "8c4db6e1-c668-4282-d035-366b397d46e5"
      },
      "execution_count": 25,
      "outputs": [
        {
          "output_type": "stream",
          "name": "stdout",
          "text": [
            "Dog has been created!!\n",
            "Scooby Doo is walking!\n",
            "Brown is color of this dog!\n",
            "Dog has been created!!\n",
            "Tommy is walking!\n",
            "White is color of this dog!\n"
          ]
        }
      ]
    },
    {
      "cell_type": "code",
      "source": [
        "class Person:\n",
        "  def __init__(self, name,age):\n",
        "    self.name = name\n",
        "    self.age = age\n",
        "  def myfunc(self):\n",
        "    print(\"Hello my name is\" + self.name)\n",
        "    \n",
        "p1 = Person(\"John\", 36)\n",
        "print(p1.name)\n",
        "print(p1.age)\n",
        "p1.myfunc()\n",
        "\n",
        "p1.age = 40\n",
        "print(p1.age)\n",
        "del p1.age\n",
        "del p1\n",
        "print(\"p1 age is removed\")"
      ],
      "metadata": {
        "colab": {
          "base_uri": "https://localhost:8080/"
        },
        "id": "CzcWMcbNMM7w",
        "outputId": "fa964803-9f0e-44bb-d0be-c44d57e71b5d"
      },
      "execution_count": 31,
      "outputs": [
        {
          "output_type": "stream",
          "name": "stdout",
          "text": [
            "John\n",
            "36\n",
            "Hello my name isJohn\n",
            "40\n",
            "p1 age is removed\n"
          ]
        }
      ]
    },
    {
      "cell_type": "code",
      "source": [
        "class Complex:\n",
        "  def __init__(self, real, imaginary):\n",
        "    self.real=real\n",
        "    self.imaginary = imaginary\n",
        "\n",
        "  def add(self, C1, C2):\n",
        "        sum=Complex(0, 0)\n",
        "        sum.real = C1.real + C2.real;\n",
        "        sum.imaginary = C1.imaginary + C2.imaginary;\n",
        "        return sum;\n",
        "\n",
        "C1=Complex(5,5)\n",
        "C2=Complex(2,1)\n",
        "print(\"Complex number :\", C1.real, \"+ i\", (C1.imaginary))\n",
        "print(\"Complex number :\", C2.real, \"+ i\", (C2.imaginary))\n",
        "C3=Complex(0,0)\n",
        "\n",
        "C3=C3.add(C1,C2)\n",
        "print(\"Sum of complex number :\", C3.real, \"+ i\", (C3.imaginary))\n"
      ],
      "metadata": {
        "colab": {
          "base_uri": "https://localhost:8080/"
        },
        "id": "-Pk1zNFJNwJP",
        "outputId": "ae273929-28d5-493a-9d6c-2d3c848627d4"
      },
      "execution_count": 30,
      "outputs": [
        {
          "output_type": "stream",
          "name": "stdout",
          "text": [
            "Complex number : 5 + i 5\n",
            "Complex number : 2 + i 1\n",
            "Sum of complex number : 7 + i 6\n"
          ]
        }
      ]
    }
  ]
}